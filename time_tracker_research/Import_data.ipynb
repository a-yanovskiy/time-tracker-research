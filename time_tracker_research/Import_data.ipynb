{
 "cells": [
  {
   "cell_type": "code",
   "execution_count": 77,
   "id": "1971e444-499b-43ac-9960-6c7977eaa812",
   "metadata": {},
   "outputs": [],
   "source": [
    "import pandas as pd"
   ]
  },
  {
   "cell_type": "code",
   "execution_count": 78,
   "id": "f286784f-8b1a-4efd-8e73-2187687146ec",
   "metadata": {},
   "outputs": [],
   "source": [
    "df = pd.read_csv(\"tt_records_20250426_230031.csv\", sep=\";\")"
   ]
  },
  {
   "cell_type": "code",
   "execution_count": 79,
   "id": "f8d53835-7d84-4a81-8684-762cf03e1fd2",
   "metadata": {},
   "outputs": [
    {
     "data": {
      "text/html": [
       "<div>\n",
       "<style scoped>\n",
       "    .dataframe tbody tr th:only-of-type {\n",
       "        vertical-align: middle;\n",
       "    }\n",
       "\n",
       "    .dataframe tbody tr th {\n",
       "        vertical-align: top;\n",
       "    }\n",
       "\n",
       "    .dataframe thead th {\n",
       "        text-align: right;\n",
       "    }\n",
       "</style>\n",
       "<table border=\"1\" class=\"dataframe\">\n",
       "  <thead>\n",
       "    <tr style=\"text-align: right;\">\n",
       "      <th></th>\n",
       "      <th>category</th>\n",
       "      <th>time started</th>\n",
       "      <th>time ended</th>\n",
       "      <th>duration</th>\n",
       "      <th>duration minutes</th>\n",
       "    </tr>\n",
       "  </thead>\n",
       "  <tbody>\n",
       "    <tr>\n",
       "      <th>0</th>\n",
       "      <td>Sleep</td>\n",
       "      <td>2024-09-01 08:57:24</td>\n",
       "      <td>2024-09-01 09:00:34</td>\n",
       "      <td>0:3:10</td>\n",
       "      <td>3</td>\n",
       "    </tr>\n",
       "    <tr>\n",
       "      <th>1</th>\n",
       "      <td>Sleep</td>\n",
       "      <td>2024-09-01 09:00:41</td>\n",
       "      <td>2024-09-01 09:08:00</td>\n",
       "      <td>0:7:19</td>\n",
       "      <td>7</td>\n",
       "    </tr>\n",
       "    <tr>\n",
       "      <th>2</th>\n",
       "      <td>Sleep</td>\n",
       "      <td>2024-09-01 09:18:55</td>\n",
       "      <td>2024-09-01 09:40:44</td>\n",
       "      <td>0:21:49</td>\n",
       "      <td>21</td>\n",
       "    </tr>\n",
       "    <tr>\n",
       "      <th>3</th>\n",
       "      <td>Еда</td>\n",
       "      <td>2024-09-01 09:53:56</td>\n",
       "      <td>2024-09-01 11:20:33</td>\n",
       "      <td>1:26:37</td>\n",
       "      <td>86</td>\n",
       "    </tr>\n",
       "    <tr>\n",
       "      <th>4</th>\n",
       "      <td>Прогулка</td>\n",
       "      <td>2024-09-01 11:20:55</td>\n",
       "      <td>2024-09-01 11:25:59</td>\n",
       "      <td>0:5:4</td>\n",
       "      <td>5</td>\n",
       "    </tr>\n",
       "  </tbody>\n",
       "</table>\n",
       "</div>"
      ],
      "text/plain": [
       "   category         time started           time ended duration  \\\n",
       "0     Sleep  2024-09-01 08:57:24  2024-09-01 09:00:34   0:3:10   \n",
       "1     Sleep  2024-09-01 09:00:41  2024-09-01 09:08:00   0:7:19   \n",
       "2     Sleep  2024-09-01 09:18:55  2024-09-01 09:40:44  0:21:49   \n",
       "3       Еда  2024-09-01 09:53:56  2024-09-01 11:20:33  1:26:37   \n",
       "4  Прогулка  2024-09-01 11:20:55  2024-09-01 11:25:59    0:5:4   \n",
       "\n",
       "   duration minutes  \n",
       "0                 3  \n",
       "1                 7  \n",
       "2                21  \n",
       "3                86  \n",
       "4                 5  "
      ]
     },
     "execution_count": 79,
     "metadata": {},
     "output_type": "execute_result"
    }
   ],
   "source": [
    "df.head()"
   ]
  },
  {
   "cell_type": "code",
   "execution_count": 80,
   "id": "e34e9154-19b8-4958-b445-7fa4c3fa4f15",
   "metadata": {},
   "outputs": [
    {
     "name": "stdout",
     "output_type": "stream",
     "text": [
      "<class 'pandas.core.frame.DataFrame'>\n",
      "RangeIndex: 2509 entries, 0 to 2508\n",
      "Data columns (total 5 columns):\n",
      " #   Column            Non-Null Count  Dtype \n",
      "---  ------            --------------  ----- \n",
      " 0   category          2509 non-null   object\n",
      " 1   time started      2509 non-null   object\n",
      " 2   time ended        2509 non-null   object\n",
      " 3   duration          2509 non-null   object\n",
      " 4   duration minutes  2509 non-null   int64 \n",
      "dtypes: int64(1), object(4)\n",
      "memory usage: 98.1+ KB\n"
     ]
    }
   ],
   "source": [
    "# информация о таблице\n",
    "df.info()"
   ]
  },
  {
   "cell_type": "code",
   "execution_count": 81,
   "id": "938803a2-fa4d-4bb5-bb4c-422946bfc3b4",
   "metadata": {},
   "outputs": [],
   "source": [
    "# преобразование типов данных\n",
    "df['category'] = df['category'].astype('string')\n",
    "df['time started'] = pd.to_datetime(df['time started'])\n",
    "df['time ended'] = pd.to_datetime(df['time ended'])\n",
    "df['duration'] = pd.to_timedelta(df['duration'])"
   ]
  },
  {
   "cell_type": "code",
   "execution_count": 82,
   "id": "3ada4ec2-2fa9-4fc6-be89-c901092887ce",
   "metadata": {},
   "outputs": [],
   "source": [
    "# время указано в GMT+3, переводить в другой часовой пояс не требуется."
   ]
  },
  {
   "cell_type": "code",
   "execution_count": 83,
   "id": "47740a9d-9674-444a-b932-dde7955b0d89",
   "metadata": {},
   "outputs": [
    {
     "data": {
      "text/html": [
       "<div>\n",
       "<style scoped>\n",
       "    .dataframe tbody tr th:only-of-type {\n",
       "        vertical-align: middle;\n",
       "    }\n",
       "\n",
       "    .dataframe tbody tr th {\n",
       "        vertical-align: top;\n",
       "    }\n",
       "\n",
       "    .dataframe thead th {\n",
       "        text-align: right;\n",
       "    }\n",
       "</style>\n",
       "<table border=\"1\" class=\"dataframe\">\n",
       "  <thead>\n",
       "    <tr style=\"text-align: right;\">\n",
       "      <th></th>\n",
       "      <th>category</th>\n",
       "      <th>time started</th>\n",
       "      <th>time ended</th>\n",
       "      <th>duration</th>\n",
       "      <th>duration minutes</th>\n",
       "    </tr>\n",
       "  </thead>\n",
       "  <tbody>\n",
       "  </tbody>\n",
       "</table>\n",
       "</div>"
      ],
      "text/plain": [
       "Empty DataFrame\n",
       "Columns: [category, time started, time ended, duration, duration minutes]\n",
       "Index: []"
      ]
     },
     "execution_count": 83,
     "metadata": {},
     "output_type": "execute_result"
    }
   ],
   "source": [
    "# проверка на дубликаты\n",
    "df[df.duplicated()]"
   ]
  },
  {
   "cell_type": "code",
   "execution_count": 84,
   "id": "f4385c88-5216-4686-b16a-148b51bd37bb",
   "metadata": {},
   "outputs": [
    {
     "name": "stdout",
     "output_type": "stream",
     "text": [
      "<class 'pandas.core.frame.DataFrame'>\n",
      "RangeIndex: 2509 entries, 0 to 2508\n",
      "Data columns (total 5 columns):\n",
      " #   Column            Non-Null Count  Dtype          \n",
      "---  ------            --------------  -----          \n",
      " 0   category          2509 non-null   string         \n",
      " 1   time started      2509 non-null   datetime64[ns] \n",
      " 2   time ended        2509 non-null   datetime64[ns] \n",
      " 3   duration          2509 non-null   timedelta64[ns]\n",
      " 4   duration minutes  2509 non-null   int64          \n",
      "dtypes: datetime64[ns](2), int64(1), string(1), timedelta64[ns](1)\n",
      "memory usage: 98.1 KB\n"
     ]
    }
   ],
   "source": [
    "df.info()"
   ]
  },
  {
   "cell_type": "code",
   "execution_count": 85,
   "id": "1ff8b8f6-f711-4013-a3c1-b1ddae08c211",
   "metadata": {},
   "outputs": [
    {
     "data": {
      "text/html": [
       "<div>\n",
       "<style scoped>\n",
       "    .dataframe tbody tr th:only-of-type {\n",
       "        vertical-align: middle;\n",
       "    }\n",
       "\n",
       "    .dataframe tbody tr th {\n",
       "        vertical-align: top;\n",
       "    }\n",
       "\n",
       "    .dataframe thead th {\n",
       "        text-align: right;\n",
       "    }\n",
       "</style>\n",
       "<table border=\"1\" class=\"dataframe\">\n",
       "  <thead>\n",
       "    <tr style=\"text-align: right;\">\n",
       "      <th></th>\n",
       "      <th>category</th>\n",
       "      <th>time started</th>\n",
       "      <th>time ended</th>\n",
       "      <th>duration</th>\n",
       "      <th>duration minutes</th>\n",
       "    </tr>\n",
       "  </thead>\n",
       "  <tbody>\n",
       "    <tr>\n",
       "      <th>0</th>\n",
       "      <td>Sleep</td>\n",
       "      <td>2024-09-01 08:57:24</td>\n",
       "      <td>2024-09-01 09:00:34</td>\n",
       "      <td>0 days 00:03:10</td>\n",
       "      <td>3</td>\n",
       "    </tr>\n",
       "    <tr>\n",
       "      <th>1</th>\n",
       "      <td>Sleep</td>\n",
       "      <td>2024-09-01 09:00:41</td>\n",
       "      <td>2024-09-01 09:08:00</td>\n",
       "      <td>0 days 00:07:19</td>\n",
       "      <td>7</td>\n",
       "    </tr>\n",
       "    <tr>\n",
       "      <th>2</th>\n",
       "      <td>Sleep</td>\n",
       "      <td>2024-09-01 09:18:55</td>\n",
       "      <td>2024-09-01 09:40:44</td>\n",
       "      <td>0 days 00:21:49</td>\n",
       "      <td>21</td>\n",
       "    </tr>\n",
       "    <tr>\n",
       "      <th>3</th>\n",
       "      <td>Еда</td>\n",
       "      <td>2024-09-01 09:53:56</td>\n",
       "      <td>2024-09-01 11:20:33</td>\n",
       "      <td>0 days 01:26:37</td>\n",
       "      <td>86</td>\n",
       "    </tr>\n",
       "    <tr>\n",
       "      <th>4</th>\n",
       "      <td>Прогулка</td>\n",
       "      <td>2024-09-01 11:20:55</td>\n",
       "      <td>2024-09-01 11:25:59</td>\n",
       "      <td>0 days 00:05:04</td>\n",
       "      <td>5</td>\n",
       "    </tr>\n",
       "  </tbody>\n",
       "</table>\n",
       "</div>"
      ],
      "text/plain": [
       "   category        time started          time ended        duration  \\\n",
       "0     Sleep 2024-09-01 08:57:24 2024-09-01 09:00:34 0 days 00:03:10   \n",
       "1     Sleep 2024-09-01 09:00:41 2024-09-01 09:08:00 0 days 00:07:19   \n",
       "2     Sleep 2024-09-01 09:18:55 2024-09-01 09:40:44 0 days 00:21:49   \n",
       "3       Еда 2024-09-01 09:53:56 2024-09-01 11:20:33 0 days 01:26:37   \n",
       "4  Прогулка 2024-09-01 11:20:55 2024-09-01 11:25:59 0 days 00:05:04   \n",
       "\n",
       "   duration minutes  \n",
       "0                 3  \n",
       "1                 7  \n",
       "2                21  \n",
       "3                86  \n",
       "4                 5  "
      ]
     },
     "execution_count": 85,
     "metadata": {},
     "output_type": "execute_result"
    }
   ],
   "source": [
    "df.head()"
   ]
  },
  {
   "cell_type": "code",
   "execution_count": 86,
   "id": "ece076eb-7a8d-431a-a2d9-b242011fdcab",
   "metadata": {},
   "outputs": [],
   "source": [
    "# данные в столбце \"duration minutes\" округлены в меньшую сторону, что может повлиять на результат анализа\n",
    "# столбец \"duration\" переводится в секунды, а затем на его основе создается столбец с минутами, округленными до сотых\n",
    "df['duration_seconds'] = df['duration'].dt.total_seconds()\n",
    "df['duration_minutes'] = (df['duration_seconds'] / 60).round(2)"
   ]
  },
  {
   "cell_type": "code",
   "execution_count": 87,
   "id": "08eaaf78-11d7-4f9b-94e9-1fe101853675",
   "metadata": {},
   "outputs": [
    {
     "data": {
      "text/html": [
       "<div>\n",
       "<style scoped>\n",
       "    .dataframe tbody tr th:only-of-type {\n",
       "        vertical-align: middle;\n",
       "    }\n",
       "\n",
       "    .dataframe tbody tr th {\n",
       "        vertical-align: top;\n",
       "    }\n",
       "\n",
       "    .dataframe thead th {\n",
       "        text-align: right;\n",
       "    }\n",
       "</style>\n",
       "<table border=\"1\" class=\"dataframe\">\n",
       "  <thead>\n",
       "    <tr style=\"text-align: right;\">\n",
       "      <th></th>\n",
       "      <th>category</th>\n",
       "      <th>time started</th>\n",
       "      <th>time ended</th>\n",
       "      <th>duration_seconds</th>\n",
       "      <th>duration_minutes</th>\n",
       "    </tr>\n",
       "  </thead>\n",
       "  <tbody>\n",
       "    <tr>\n",
       "      <th>0</th>\n",
       "      <td>Sleep</td>\n",
       "      <td>2024-09-01 08:57:24</td>\n",
       "      <td>2024-09-01 09:00:34</td>\n",
       "      <td>190.0</td>\n",
       "      <td>3.17</td>\n",
       "    </tr>\n",
       "    <tr>\n",
       "      <th>1</th>\n",
       "      <td>Sleep</td>\n",
       "      <td>2024-09-01 09:00:41</td>\n",
       "      <td>2024-09-01 09:08:00</td>\n",
       "      <td>439.0</td>\n",
       "      <td>7.32</td>\n",
       "    </tr>\n",
       "    <tr>\n",
       "      <th>2</th>\n",
       "      <td>Sleep</td>\n",
       "      <td>2024-09-01 09:18:55</td>\n",
       "      <td>2024-09-01 09:40:44</td>\n",
       "      <td>1309.0</td>\n",
       "      <td>21.82</td>\n",
       "    </tr>\n",
       "    <tr>\n",
       "      <th>3</th>\n",
       "      <td>Еда</td>\n",
       "      <td>2024-09-01 09:53:56</td>\n",
       "      <td>2024-09-01 11:20:33</td>\n",
       "      <td>5197.0</td>\n",
       "      <td>86.62</td>\n",
       "    </tr>\n",
       "    <tr>\n",
       "      <th>4</th>\n",
       "      <td>Прогулка</td>\n",
       "      <td>2024-09-01 11:20:55</td>\n",
       "      <td>2024-09-01 11:25:59</td>\n",
       "      <td>304.0</td>\n",
       "      <td>5.07</td>\n",
       "    </tr>\n",
       "  </tbody>\n",
       "</table>\n",
       "</div>"
      ],
      "text/plain": [
       "   category        time started          time ended  duration_seconds  \\\n",
       "0     Sleep 2024-09-01 08:57:24 2024-09-01 09:00:34             190.0   \n",
       "1     Sleep 2024-09-01 09:00:41 2024-09-01 09:08:00             439.0   \n",
       "2     Sleep 2024-09-01 09:18:55 2024-09-01 09:40:44            1309.0   \n",
       "3       Еда 2024-09-01 09:53:56 2024-09-01 11:20:33            5197.0   \n",
       "4  Прогулка 2024-09-01 11:20:55 2024-09-01 11:25:59             304.0   \n",
       "\n",
       "   duration_minutes  \n",
       "0              3.17  \n",
       "1              7.32  \n",
       "2             21.82  \n",
       "3             86.62  \n",
       "4              5.07  "
      ]
     },
     "execution_count": 87,
     "metadata": {},
     "output_type": "execute_result"
    }
   ],
   "source": [
    "# оставить только интересующие столбцы\n",
    "df = df[['category', 'time started', 'time ended', 'duration_seconds', 'duration_minutes']]\n",
    "df.head()"
   ]
  },
  {
   "cell_type": "code",
   "execution_count": 88,
   "id": "821a70ed-c7d0-4a64-bf04-a35a05c7a327",
   "metadata": {},
   "outputs": [
    {
     "data": {
      "text/plain": [
       "<StringArray>\n",
       "[      'Sleep',         'Еда',    'Прогулка',       'Отдых',     'Общение',\n",
       " 'Образование',         'Быт',      'Работа',       'Спорт',       'Хобби']\n",
       "Length: 10, dtype: string"
      ]
     },
     "execution_count": 88,
     "metadata": {},
     "output_type": "execute_result"
    }
   ],
   "source": [
    "df['category'].unique()"
   ]
  },
  {
   "cell_type": "code",
   "execution_count": 89,
   "id": "8969e6ef-974b-4acf-87ba-feaa0d14e9d6",
   "metadata": {},
   "outputs": [],
   "source": [
    "# Замена \"Sleep\" на \"Сон\"\n",
    "df['category'] = df['category'].replace('Sleep', 'Сон')"
   ]
  },
  {
   "cell_type": "code",
   "execution_count": 90,
   "id": "fb6e34ed-c7af-45a1-ac7f-83e77be7224a",
   "metadata": {},
   "outputs": [],
   "source": [
    "# deepcopy на случай, если придется вернуться к изначальным данным\n",
    "df_backup = df.copy(deep=True)"
   ]
  },
  {
   "cell_type": "code",
   "execution_count": 91,
   "id": "925852cf-d895-42cf-8e91-d2c8fcccbeb6",
   "metadata": {},
   "outputs": [
    {
     "name": "stdout",
     "output_type": "stream",
     "text": [
      "Stored 'df' (DataFrame)\n"
     ]
    }
   ],
   "source": [
    "%store df"
   ]
  }
 ],
 "metadata": {
  "kernelspec": {
   "display_name": "Python 3 (ipykernel)",
   "language": "python",
   "name": "python3"
  },
  "language_info": {
   "codemirror_mode": {
    "name": "ipython",
    "version": 3
   },
   "file_extension": ".py",
   "mimetype": "text/x-python",
   "name": "python",
   "nbconvert_exporter": "python",
   "pygments_lexer": "ipython3",
   "version": "3.11.7"
  }
 },
 "nbformat": 4,
 "nbformat_minor": 5
}
